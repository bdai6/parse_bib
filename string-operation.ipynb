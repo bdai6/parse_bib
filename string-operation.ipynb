{
 "cells": [
  {
   "cell_type": "code",
   "execution_count": 11,
   "metadata": {},
   "outputs": [
    {
     "name": "stdout",
     "output_type": "stream",
     "text": [
      "['Jing Li']\n"
     ]
    }
   ],
   "source": [
    "myName = \"Jing Li\"\n",
    "name_split = myName.split(',')\n",
    "print(name_split)"
   ]
  },
  {
   "cell_type": "code",
   "execution_count": 9,
   "metadata": {},
   "outputs": [
    {
     "name": "stdout",
     "output_type": "stream",
     "text": [
      "2019-08-13 23:20:05.739238\n"
     ]
    }
   ],
   "source": [
    "from datetime import datetime\n",
    "currTime = datetime.now()\n",
    "print(currTime)"
   ]
  },
  {
   "cell_type": "code",
   "execution_count": 7,
   "metadata": {},
   "outputs": [
    {
     "ename": "TypeError",
     "evalue": "'datetime.datetime' object is not callable",
     "output_type": "error",
     "traceback": [
      "\u001b[0;31m---------------------------------------------------------------------------\u001b[0m",
      "\u001b[0;31mTypeError\u001b[0m                                 Traceback (most recent call last)",
      "\u001b[0;32m<ipython-input-7-0fbfb0201b39>\u001b[0m in \u001b[0;36m<module>\u001b[0;34m\u001b[0m\n\u001b[0;32m----> 1\u001b[0;31m \u001b[0mcurrTime\u001b[0m\u001b[0;34m(\u001b[0m\u001b[0;36m1\u001b[0m\u001b[0;34m)\u001b[0m\u001b[0;34m\u001b[0m\u001b[0;34m\u001b[0m\u001b[0m\n\u001b[0m",
      "\u001b[0;31mTypeError\u001b[0m: 'datetime.datetime' object is not callable"
     ]
    }
   ],
   "source": [
    "currTime(1)"
   ]
  },
  {
   "cell_type": "code",
   "execution_count": 12,
   "metadata": {},
   "outputs": [
    {
     "data": {
      "text/plain": [
       "['alpha', 'beta']"
      ]
     },
     "execution_count": 12,
     "metadata": {},
     "output_type": "execute_result"
    }
   ],
   "source": [
    "myStr = ['alpha','beta','gamma']\n",
    "myStr[:-1]"
   ]
  },
  {
   "cell_type": "code",
   "execution_count": 1,
   "metadata": {},
   "outputs": [
    {
     "name": "stdout",
     "output_type": "stream",
     "text": [
      "1: ratner2019sysml\n",
      "2: shukla2018frontiers\n",
      "3: zha2018JOLPE\n",
      "4: khoram2018CAL\n",
      "5: zha2017CALCMA\n",
      "6: zha2017CALIMEC\n",
      "7: li2014jssc\n",
      "8: cil2013thinfilm\n",
      "9: zhang2012TED\n",
      "10: cywar2012nano\n",
      "11: li2011sciencechina\n",
      "12: li2010tvlsi\n",
      "13: chen2010tvlsi\n",
      "14: li2009tcad\n",
      "15: li2008jetc\n",
      "16: li2007ted\n",
      "17: luo2019vlsit\n",
      "18: zha2019vlsic\n",
      "19: zhang2019fccm\n",
      "20: zhang2019fpga\n",
      "21: zhang2018fccm\n",
      "22: zhang2018cvpr\n",
      "23: khoram2018iclr\n",
      "24: li2018CSTIC\n",
      "25: zha2018asplos\n",
      "26: zhang2018fpga\n",
      "27: zha2018fpga\n",
      "28: khoram2018fpga\n",
      "29: zha2017iccad\n",
      "30: khoram2017fccm\n",
      "31: khoram2017ISPD\n",
      "32: zha2017CSTIC\n",
      "33: zha2017dacwip\n",
      "34: zhang2017fpgaCNN\n",
      "35: zhang2017fpgaBFS\n",
      "36: zha2017FPGAposter\n",
      "37: zha2016ICCAD\n",
      "38: xu2016vlsi\n",
      "39: guan2016irps\n",
      "40: luo2015iedm\n",
      "41: li2015iscas\n",
      "42: li2013vlsi\n",
      "43: meza2012iccd\n",
      "44: li2012irps\n",
      "45: du2012irps\n",
      "46: raoux2011nvmts\n",
      "47: kim2012vlsitsa\n",
      "48: li2011iedm\n",
      "49: wu2011iedm\n",
      "50: wen2011esscirc\n",
      "51: wen2011vlci\n",
      "52: li2011imw\n",
      "53: rajendran2011imw\n",
      "54: zhang2009iedm\n",
      "55: li2009dac\n",
      "56: li2009aspdac\n",
      "57: li2009gsrc\n",
      "58: li2008techcon\n",
      "59: li2008cicc\n",
      "60: li2008dac\n",
      "61: li2007itc\n",
      "62: li2007islped\n",
      "63: li2007techcon\n",
      "64: li2007icicdt\n",
      "65: li2007dac\n",
      "66: li2006drc\n",
      "67: phd\n",
      "68: meza2012:report:nvm\n",
      "69: li2008:report:edram\n"
     ]
    }
   ],
   "source": [
    "import bibtexparser\n",
    "\n",
    "with open('publications.bib') as bibtex_file:\n",
    "    bibtex_str = bibtex_file.read()\n",
    "\n",
    "bib_database = bibtexparser.loads(bibtex_str)\n",
    "numRef = 0\n",
    "for entry in bib_database.entries:\n",
    "    numRef += 1\n",
    "    print(str(numRef) + \": \" + entry['ID'])"
   ]
  },
  {
   "cell_type": "code",
   "execution_count": 108,
   "metadata": {},
   "outputs": [
    {
     "name": "stdout",
     "output_type": "stream",
     "text": [
      "meza2012-report-nvm\n",
      "['li', '', '', '', 'phd']\n",
      "['', '', '2009', '', '', '']\n"
     ]
    }
   ],
   "source": [
    "import re\n",
    "   \n",
    "def removeEmptyString(inStr):\n",
    "    while(\"\" in inStr):\n",
    "        inStr.remove(\"\") \n",
    "    \n",
    "str1 = 'meza2012:report:nvm'\n",
    "if ':' in str1:\n",
    "    str2 = str1.replace(':', \"-\")\n",
    "print(str2)\n",
    "\n",
    "string_to_split = 'li2009phd'\n",
    "a = re.split('[^a-zA-Z]', string_to_split)\n",
    "b = re.split('[a-zA-Z]', string_to_split)\n",
    "\n",
    "#removeEmptyString(a)\n",
    "#removeEmptyString(b)\n",
    "\n",
    "#c = re.split('[^A-Z]', a[1])\n",
    "#c = re.split('[A-Z][a-zA-Z]*', a[1])\n",
    "#removeEmptyString(c)\n",
    "#d = re.findall('[A-Z][a-zA-Z]*', a[1])\n",
    "print(a)\n",
    "print(b)\n",
    "#print(c)\n",
    "#print(d)\n",
    "\n",
    "#outputStr = '-'.join([a[0]] + b + c + d)\n",
    "\n",
    "#print(outputStr.lower())\n"
   ]
  },
  {
   "cell_type": "code",
   "execution_count": 11,
   "metadata": {},
   "outputs": [
    {
     "data": {
      "text/plain": [
       "('zhang', '2017fpgaCNN')"
      ]
     },
     "execution_count": 11,
     "metadata": {},
     "output_type": "execute_result"
    }
   ],
   "source": [
    "testStr = 'zhang2017fpgaCNN'\n",
    "def splitnonalpha(s):\n",
    "   pos = 1\n",
    "   while pos < len(s) and s[pos].isalpha():\n",
    "      pos+=1\n",
    "   return (s[:pos], s[pos:])\n",
    "splitnonalpha(testStr)"
   ]
  },
  {
   "cell_type": "code",
   "execution_count": null,
   "metadata": {},
   "outputs": [],
   "source": []
  }
 ],
 "metadata": {
  "kernelspec": {
   "display_name": "Python 3",
   "language": "python",
   "name": "python3"
  },
  "language_info": {
   "codemirror_mode": {
    "name": "ipython",
    "version": 3
   },
   "file_extension": ".py",
   "mimetype": "text/x-python",
   "name": "python",
   "nbconvert_exporter": "python",
   "pygments_lexer": "ipython3",
   "version": "3.7.3"
  }
 },
 "nbformat": 4,
 "nbformat_minor": 2
}
